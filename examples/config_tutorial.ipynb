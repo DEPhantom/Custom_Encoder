{
 "cells": [
  {
   "cell_type": "markdown",
   "id": "e330c57e-9e60-4a88-9fc0-e861f514b5a8",
   "metadata": {},
   "source": [
    "The configuration is divided into the four sections.\n",
    "1. `general`\n",
    "2. `train options`\n",
    "3. `OpenML dataset options`\n",
    "4. `model options`\n",
    "5. `loss options`\n",
    "\n",
    "The `general` section is used for running experiments on non-OpenML datasets, so you don't need to modify it.\n",
    "The `OpenML dataset options` section is for running experiments on OpenML datasets only, and also does not need to be changed.\n",
    "\n",
    "To reproduce the experiment for the PieceWise encoder, you need to set the `encoder` field to \"PieceWise\".\n",
    "\n",
    "The fields `feature_dim` and `bin_dim` are only used when running individual datasets — you don’t need to set them when using `example.py`.\n",
    "\n",
    "Set `emb_dim` and `instance_dim` according to the experimental settings.\n",
    "\n",
    "Similarly, configure the `loss options` and `train options` sections based on the original experiment settings.\n",
    "\n",
    "A sample config would look like this:"
   ]
  },
  {
   "cell_type": "code",
   "execution_count": null,
   "id": "21ed7c08-db73-4987-b61d-968049d1a226",
   "metadata": {},
   "outputs": [],
   "source": [
    "# general\n",
    "seed: 42\n",
    "workers: 8\n",
    "dataset_dir: \"./datasets\"\n",
    "\n",
    "# train options\n",
    "batch_size: 128\n",
    "start_epoch: 0\n",
    "epochs: 1000\n",
    "finetune_epochs: 200\n",
    "dataset: \"OpenML\"\n",
    "\n",
    "# OpenML dataset options\n",
    "dataset_id: 3918\n",
    "dataset_class: 2\n",
    "\n",
    "# model options\n",
    "encoder: \"PieceWise\"\n",
    "feature_dim: 21\n",
    "bin_dim: 38\n",
    "emb_dim: 256\n",
    "instance_dim: 256\n",
    "model_path: \"save\"\n",
    "reload: False\n",
    "\n",
    "# loss options\n",
    "learning_rate: 0.0003\n",
    "weight_decay: 0.\n",
    "instance_temperature: 0.5\n",
    "cluster_temperature: 1.0"
   ]
  }
 ],
 "metadata": {
  "kernelspec": {
   "display_name": "",
   "name": ""
  },
  "language_info": {
   "name": ""
  }
 },
 "nbformat": 4,
 "nbformat_minor": 5
}
